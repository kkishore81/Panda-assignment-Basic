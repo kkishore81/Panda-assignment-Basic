{
 "cells": [
  {
   "cell_type": "code",
   "execution_count": null,
   "id": "c78eeb10-26b1-41aa-9b52-a1826c0d1dd6",
   "metadata": {},
   "outputs": [],
   "source": [
    "# Q1. Create a Pandas Series that contains the following data: 4, 8, 15, 16, 23, and 42. Then, print the series."
   ]
  },
  {
   "cell_type": "code",
   "execution_count": 2,
   "id": "b84a6a68-8bec-48f9-8682-7f08b80cc5f5",
   "metadata": {},
   "outputs": [],
   "source": [
    "import pandas as pd"
   ]
  },
  {
   "cell_type": "code",
   "execution_count": 8,
   "id": "6c10c645-95a2-4cf6-9fbf-46e02f01555d",
   "metadata": {},
   "outputs": [
    {
     "name": "stdout",
     "output_type": "stream",
     "text": [
      "Requirement already satisfied: pandas in /opt/conda/lib/python3.10/site-packages (1.5.2)\n",
      "Requirement already satisfied: python-dateutil>=2.8.1 in /opt/conda/lib/python3.10/site-packages (from pandas) (2.8.2)\n",
      "Requirement already satisfied: pytz>=2020.1 in /opt/conda/lib/python3.10/site-packages (from pandas) (2022.6)\n",
      "Requirement already satisfied: numpy>=1.21.0 in /opt/conda/lib/python3.10/site-packages (from pandas) (1.23.5)\n",
      "Requirement already satisfied: six>=1.5 in /opt/conda/lib/python3.10/site-packages (from python-dateutil>=2.8.1->pandas) (1.16.0)\n",
      "Note: you may need to restart the kernel to use updated packages.\n"
     ]
    }
   ],
   "source": [
    "pip install pandas"
   ]
  },
  {
   "cell_type": "code",
   "execution_count": 6,
   "id": "e85bcb91-dda8-4773-b05f-c604a0ad9def",
   "metadata": {},
   "outputs": [
    {
     "name": "stdout",
     "output_type": "stream",
     "text": [
      "0     4\n",
      "1     8\n",
      "2    15\n",
      "3    16\n",
      "4    23\n",
      "5    42\n",
      "dtype: int64\n"
     ]
    }
   ],
   "source": [
    "data = [4, 8, 15, 16, 23, 42]\n",
    "\n",
    "series = pd.Series(data)\n",
    "print(series)"
   ]
  },
  {
   "cell_type": "code",
   "execution_count": null,
   "id": "cb0e0cbc-c6c7-4bd4-9027-82c7a14a47ac",
   "metadata": {},
   "outputs": [],
   "source": [
    "#Q2. Create a variable of list type containing 10 elements in it, and apply pandas.Series function on the\n",
    "variable print it."
   ]
  },
  {
   "cell_type": "code",
   "execution_count": 7,
   "id": "fdb4c019-20f2-44a7-9f3d-631aaee71b86",
   "metadata": {},
   "outputs": [
    {
     "name": "stdout",
     "output_type": "stream",
     "text": [
      "0     1\n",
      "1     2\n",
      "2     3\n",
      "3     4\n",
      "4     5\n",
      "5     6\n",
      "6     7\n",
      "7     8\n",
      "8     9\n",
      "9    10\n",
      "dtype: int64\n"
     ]
    }
   ],
   "source": [
    "my_list = [1, 2, 3, 4, 5, 6, 7, 8, 9, 10]\n",
    "\n",
    "series = pd.Series(my_list)\n",
    "print(series)"
   ]
  },
  {
   "cell_type": "code",
   "execution_count": null,
   "id": "66f3def1-7965-4b96-848f-4a395caa4ff9",
   "metadata": {},
   "outputs": [],
   "source": []
  },
  {
   "cell_type": "code",
   "execution_count": null,
   "id": "91cb6292-1d2a-4294-a0f6-026a9789ba29",
   "metadata": {},
   "outputs": [],
   "source": [
    "# Q3. Create a Pandas DataFrame that contains the following data:"
   ]
  },
  {
   "cell_type": "code",
   "execution_count": 3,
   "id": "cc90f950-79d4-4fe0-a917-8bedc9c0c11f",
   "metadata": {},
   "outputs": [
    {
     "name": "stdout",
     "output_type": "stream",
     "text": [
      "     Name  Age  Gender\n",
      "0   Alice   25  Female\n",
      "1     Bob   30    Male\n",
      "2  Claire   27  Female\n"
     ]
    }
   ],
   "source": [
    "data = {\n",
    "    'Name': ['Alice', 'Bob', 'Claire'],\n",
    "    'Age': [25, 30, 27],\n",
    "    'Gender': ['Female', 'Male', 'Female']\n",
    "}\n",
    "\n",
    "df = pd.DataFrame(data)\n",
    "print(df)"
   ]
  },
  {
   "cell_type": "code",
   "execution_count": null,
   "id": "3ec6ca07-a023-43a0-ad60-c4b917798417",
   "metadata": {},
   "outputs": [],
   "source": [
    "# Q4. What is ‘DataFrame’ in pandas and how is it different from pandas.series? Explain with an example."
   ]
  },
  {
   "cell_type": "code",
   "execution_count": null,
   "id": "fbd3c162-770e-4030-b082-162f74263c63",
   "metadata": {},
   "outputs": [],
   "source": [
    "#A DataFrame in pandas is a 2-dimensional labeled data structure, similar to a table or spreadsheet, with columns of potentially different data types.\n",
    "#It can be seen as a collection of Series objects where each Series represents a column.\n",
    "\n",
    "#In contrast, a pandas Series is a 1-dimensional labeled array that can hold any data type. It can be thought of as a single column of a DataFrame.\n",
    "\n",
    "#A DataFrame can represent a dataset with multiple columns like a CSV file, while a Series can represent a single column of that dataset. For instance, \n",
    "#a DataFrame can store information about students, including their names, ages, and genders, where each column corresponds to a Series\n",
    "#(e.g., 'Name' Series, 'Age' Series, 'Gender' Series)."
   ]
  },
  {
   "cell_type": "code",
   "execution_count": 4,
   "id": "f51bb412-fe82-43e9-b8af-53e4f7b6ee1d",
   "metadata": {},
   "outputs": [],
   "source": [
    "# Q5. What are some common functions you can use to manipulate data in a Pandas DataFrame? \n",
    "#Can you give an example of when you might use one of these functions?    "
   ]
  },
  {
   "cell_type": "code",
   "execution_count": 1,
   "id": "02d98994-5aff-4dd6-a61d-ee811f721f25",
   "metadata": {},
   "outputs": [],
   "source": [
    "# Some common functions to manipulate data in a Pandas DataFrame include:\n",
    "\n",
    "# head() - Used to display the first few rows of the DataFrame, helpful for previewing data.\n",
    "# groupby() - Used to group data based on one or more columns, allowing for aggregation and analysis.\n",
    "# fillna() - Used to fill missing values in the DataFrame with specified values or methods.\n",
    "# Example: If you have a sales dataset in a DataFrame, you can use groupby() to group the data by product category and\n",
    "# calculate the total sales for each category.\""
   ]
  },
  {
   "cell_type": "code",
   "execution_count": null,
   "id": "5ad648ca-f445-40d5-bdbe-223c5a7843e5",
   "metadata": {},
   "outputs": [],
   "source": [
    "Q6. Which of the following is mutable in nature Series, DataFrame, Panel?"
   ]
  },
  {
   "cell_type": "code",
   "execution_count": null,
   "id": "8486ef76-6ce2-4fe1-bd2e-3a67de65ae20",
   "metadata": {},
   "outputs": [],
   "source": [
    "# DataFrame and panel is mutable in nature"
   ]
  },
  {
   "cell_type": "code",
   "execution_count": null,
   "id": "eb2f14ee-acda-497a-8585-016ae5cc4f63",
   "metadata": {},
   "outputs": [],
   "source": [
    "Q7 Create a DataFrame using multiple Series. Explain with an example."
   ]
  },
  {
   "cell_type": "code",
   "execution_count": 5,
   "id": "13f634f5-42c1-450a-8a49-b4ed0468c569",
   "metadata": {},
   "outputs": [
    {
     "name": "stdout",
     "output_type": "stream",
     "text": [
      "     Name  Age  Gender\n",
      "0   Alice   25  Female\n",
      "1     Bob   30    Male\n",
      "2  Claire   27  Female\n"
     ]
    }
   ],
   "source": [
    "name = pd.Series(['Alice', 'Bob', 'Claire'])\n",
    "age = pd.Series([25, 30, 27])\n",
    "gender = pd.Series(['Female', 'Male', 'Female'])\n",
    "\n",
    "data = {\n",
    "    'Name': name,\n",
    "    'Age': age,\n",
    "    'Gender': gender\n",
    "}\n",
    "\n",
    "df = pd.DataFrame(data)\n",
    "print(df)"
   ]
  },
  {
   "cell_type": "code",
   "execution_count": null,
   "id": "375d6f2c-4ef3-475d-a3c9-2a15f522067f",
   "metadata": {},
   "outputs": [],
   "source": []
  }
 ],
 "metadata": {
  "kernelspec": {
   "display_name": "Python 3 (ipykernel)",
   "language": "python",
   "name": "python3"
  },
  "language_info": {
   "codemirror_mode": {
    "name": "ipython",
    "version": 3
   },
   "file_extension": ".py",
   "mimetype": "text/x-python",
   "name": "python",
   "nbconvert_exporter": "python",
   "pygments_lexer": "ipython3",
   "version": "3.10.8"
  }
 },
 "nbformat": 4,
 "nbformat_minor": 5
}
